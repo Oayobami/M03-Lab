{
 "cells": [
  {
   "cell_type": "code",
   "execution_count": 15,
   "id": "c89e98c9-5653-481a-92b1-bdad2f64fbfa",
   "metadata": {},
   "outputs": [
    {
     "name": "stdin",
     "output_type": "stream",
     "text": [
      "Enter the number of test cases:  1\n",
      "Enter the size of the array:  5\n",
      "Enter the array elements separated by space:  0 2 3 6 7\n",
      "Enter the element to search for:  6\n"
     ]
    },
    {
     "name": "stdout",
     "output_type": "stream",
     "text": [
      "Index of 6 in the array: 3\n"
     ]
    }
   ],
   "source": [
    "# Binary Search Algorithm\n",
    "\n",
    "class Solution:\n",
    "    def binarysearch(self, arr, n, k):\n",
    "        \"\"\"\n",
    "        Perform binary search to find the index of element k in the sorted array arr.\n",
    "\n",
    "        Parameters:\n",
    "        arr (list): Sorted array of integers.\n",
    "        n (int): Size of the array.\n",
    "        k (int): Element to search for in the array.\n",
    "\n",
    "        Returns:\n",
    "        int: Index of element k in the array if found, otherwise -1.\n",
    "        \"\"\"\n",
    "        # Initialize left and right pointers\n",
    "        left, right = 0, n - 1\n",
    "        \n",
    "        # Loop until the left pointer is less than or equal to the right pointer\n",
    "        while left <= right:\n",
    "            # Calculate the middle index\n",
    "            mid = (left + right) // 2\n",
    "            \n",
    "            # If the element at the middle index is equal to k, return the index\n",
    "            if arr[mid] == k:\n",
    "                return mid\n",
    "            # If the element at the middle index is less than k, update the left pointer\n",
    "            elif arr[mid] < k:\n",
    "                left = mid + 1\n",
    "            # If the element at the middle index is greater than k, update the right pointer\n",
    "            else:\n",
    "                right = mid - 1\n",
    "        \n",
    "        # If k is not found in the array, return -1\n",
    "        return -1\n",
    "\n",
    "# Driver Code\n",
    "if __name__ == '__main__':\n",
    "    t = int(input(\"Enter the number of test cases: \"))\n",
    "    for i in range(t):\n",
    "        n = int(input(\"Enter the size of the array: \"))\n",
    "        arr = list(map(int, input(\"Enter the array elements separated by space: \").strip().split()))\n",
    "        k = int(input(\"Enter the element to search for: \"))\n",
    "        ob = Solution()\n",
    "        print(\"Index of\", k, \"in the array:\", ob.binarysearch(arr, n, k))\n"
   ]
  },
  {
   "cell_type": "markdown",
   "id": "e28a8f9c-18e9-4dca-a66a-65c5c9fbcf25",
   "metadata": {},
   "source": [
    "#Sort an Array of 0s, 1s, and 2s"
   ]
  },
  {
   "cell_type": "code",
   "execution_count": 13,
   "id": "9a2faab6-2bdd-49ab-95ff-b095bca4b2d8",
   "metadata": {},
   "outputs": [
    {
     "name": "stdout",
     "output_type": "stream",
     "text": [
      "Sorted Array: [0, 0, 1, 2, 2]\n"
     ]
    }
   ],
   "source": [
    "class Solution:\n",
    "    def sort012(self, arr, n):\n",
    "        \"\"\"\n",
    "        Sort an array of 0s, 1s, and 2s.\n",
    "\n",
    "        Parameters:\n",
    "        arr (list): Array of integers containing only 0s, 1s, and 2s.\n",
    "        n (int): Size of the array.\n",
    "\n",
    "        Returns:\n",
    "        None: The function modifies the array in-place.\n",
    "        \"\"\"\n",
    "        low = 0\n",
    "        high = n - 1\n",
    "        mid = 0\n",
    "        \n",
    "        # Iterating until mid pointer is less than or equal to high.\n",
    "        while mid <= high:\n",
    "            \n",
    "            # If element at mid is 0, swap with element at low and move both pointers.\n",
    "            if arr[mid] == 0:\n",
    "                arr[mid], arr[low] = arr[low], arr[mid]\n",
    "                mid += 1\n",
    "                low += 1\n",
    "                \n",
    "            # If element at mid is 1, move mid pointer.\n",
    "            elif arr[mid] == 1:\n",
    "                mid += 1\n",
    "                \n",
    "            # If element at mid is 2, swap with element at high and move high pointer.\n",
    "            else:\n",
    "                arr[mid], arr[high] = arr[high], arr[mid]\n",
    "                high -= 1\n",
    "\n",
    "# Driver Code\n",
    "if __name__ == '__main__':\n",
    "    # Example usage\n",
    "    arr = [0, 2, 1, 2, 0]\n",
    "    ob = Solution()\n",
    "    ob.sort012(arr, len(arr))\n",
    "    print(\"Sorted Array:\", arr)\n"
   ]
  },
  {
   "cell_type": "code",
   "execution_count": null,
   "id": "1badfff2-3967-411f-905c-002df470e991",
   "metadata": {},
   "outputs": [],
   "source": []
  }
 ],
 "metadata": {
  "kernelspec": {
   "display_name": "Python 3 (ipykernel)",
   "language": "python",
   "name": "python3"
  },
  "language_info": {
   "codemirror_mode": {
    "name": "ipython",
    "version": 3
   },
   "file_extension": ".py",
   "mimetype": "text/x-python",
   "name": "python",
   "nbconvert_exporter": "python",
   "pygments_lexer": "ipython3",
   "version": "3.11.7"
  }
 },
 "nbformat": 4,
 "nbformat_minor": 5
}
