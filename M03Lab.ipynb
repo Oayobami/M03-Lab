{
 "cells": [
  {
   "cell_type": "code",
   "execution_count": 2,
   "id": "f6cf2d28-51a2-4cbc-8c48-11c9d86f6628",
   "metadata": {},
   "outputs": [
    {
     "name": "stdin",
     "output_type": "stream",
     "text": [
      "Vehicle type car\n",
      "Enter the year:  2002\n",
      "Enter the make:  toyota\n",
      "Enter the model:  corolla\n",
      "Enter the number of doors (2 or 4):  2\n",
      "Enter the type of roof (solid or sun roof):  solid\n"
     ]
    },
    {
     "name": "stdout",
     "output_type": "stream",
     "text": [
      "\n",
      "Vehicle type: car\n",
      "Year: 2002\n",
      "Make: toyota\n",
      "Model: corolla\n",
      "Number of doors: 2\n",
      "Type of roof: solid\n"
     ]
    }
   ],
   "source": [
    "#created a class Vehicle with an instance attribute vehicle_type\n",
    "\n",
    "class Vehicle:\n",
    "    def __init__(self, vehicle_type):\n",
    "        self.vehicle_type = vehicle_type\n",
    "\n",
    "class Automobile(Vehicle):\n",
    "    \"\"\"class inherites attr from vehicle by using super(). the base class does the handling for the attribute vehicle class \"\"\"\n",
    "    def __init__(self, vehicle_type, year, make, model, doors, roof):\n",
    "        super().__init__(vehicle_type)\n",
    "        self.year = year\n",
    "        self.make = make\n",
    "        self.model = model\n",
    "        self.doors = doors\n",
    "        self.roof = roof\n",
    "\n",
    "    def __str__(self):\n",
    "        #string representation of the class/ outputs the detail of the car\n",
    "        return f\"Vehicle type: {self.vehicle_type}\\n\" \\\n",
    "               f\"Year: {self.year}\\n\" \\\n",
    "               f\"Make: {self.make}\\n\" \\\n",
    "               f\"Model: {self.model}\\n\" \\\n",
    "               f\"Number of doors: {self.doors}\\n\" \\\n",
    "               f\"Type of roof: {self.roof}\"\n",
    "\n",
    "def main():\n",
    "    #main function utilizes the class and takes input that will be passed to the class\n",
    "    vehicle_type = input(\"Vehicle type\")\n",
    "    year = input(\"Enter the year: \")\n",
    "    make = input(\"Enter the make: \")\n",
    "    model = input(\"Enter the model: \")\n",
    "    doors = input(\"Enter the number of doors (2 or 4): \")\n",
    "    roof = input(\"Enter the type of roof (solid or sun roof): \")\n",
    "\n",
    "    # Create an instance of Automobile class\n",
    "    car = Automobile(vehicle_type, year, make, model, doors, roof)\n",
    "\n",
    "    # Output the data\n",
    "    print(\"\")\n",
    "    print(car)\n",
    "\n",
    "if __name__ == \"__main__\":\n",
    "    main()\n"
   ]
  }
 ],
 "metadata": {
  "kernelspec": {
   "display_name": "Python 3 (ipykernel)",
   "language": "python",
   "name": "python3"
  },
  "language_info": {
   "codemirror_mode": {
    "name": "ipython",
    "version": 3
   },
   "file_extension": ".py",
   "mimetype": "text/x-python",
   "name": "python",
   "nbconvert_exporter": "python",
   "pygments_lexer": "ipython3",
   "version": "3.11.7"
  }
 },
 "nbformat": 4,
 "nbformat_minor": 5
}
