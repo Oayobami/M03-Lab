{
 "cells": [
  {
   "cell_type": "code",
   "execution_count": null,
   "id": "509ce4c9-7750-4671-be9f-69fa94595236",
   "metadata": {},
   "outputs": [],
   "source": [
    "#Nam: Oluwadeyi Ayobami\n",
    "#file Name: List and functions\n",
    "#description: shows the methods applicable to list and using of functions"
   ]
  },
  {
   "cell_type": "code",
   "execution_count": 10,
   "id": "ef9b1db0-9b2d-42a9-9b92-1af037a021e4",
   "metadata": {},
   "outputs": [],
   "source": [
    "#7.4 created a list"
   ]
  },
  {
   "cell_type": "code",
   "execution_count": 11,
   "id": "47959c1e-e736-43c9-bff5-2dd6a158e3ec",
   "metadata": {},
   "outputs": [],
   "source": [
    "things = [\"mozzarella\", \"cinderella\", \"salmonella\"]\n"
   ]
  },
  {
   "cell_type": "code",
   "execution_count": 3,
   "id": "ca248d37-a17c-410c-a4c0-709632e68bc8",
   "metadata": {},
   "outputs": [],
   "source": [
    "#7.5 capitalize all elements in the list that is a persons name"
   ]
  },
  {
   "cell_type": "code",
   "execution_count": 17,
   "id": "995d0668-ed3e-4c10-9ce9-579f07615f69",
   "metadata": {},
   "outputs": [
    {
     "data": {
      "text/plain": [
       "['mozzarella', 'Cinderella', 'salmonella']"
      ]
     },
     "execution_count": 17,
     "metadata": {},
     "output_type": "execute_result"
    }
   ],
   "source": [
    "things[1] = things[1].capitalize()\n",
    "print(things)"
   ]
  },
  {
   "cell_type": "markdown",
   "id": "84a672d6-45ca-4e74-a0d8-765b3724374e",
   "metadata": {},
   "source": [
    "yes the name changed in the list"
   ]
  },
  {
   "cell_type": "code",
   "execution_count": 18,
   "id": "2c2240d1-27aa-4f70-8421-39104493088d",
   "metadata": {},
   "outputs": [],
   "source": [
    "#7.6 make all the cheesy element the list uppercase"
   ]
  },
  {
   "cell_type": "code",
   "execution_count": 19,
   "id": "309262dc-bffa-4539-9b2a-6323c39c22eb",
   "metadata": {},
   "outputs": [
    {
     "data": {
      "text/plain": [
       "['MOZZARELLA', 'Cinderella', 'salmonella']"
      ]
     },
     "execution_count": 19,
     "metadata": {},
     "output_type": "execute_result"
    }
   ],
   "source": [
    "things[0] = things[0].upper()\n",
    "print(things)"
   ]
  },
  {
   "cell_type": "code",
   "execution_count": 20,
   "id": "74874d63-4d65-47ec-adb3-70461c5c23fd",
   "metadata": {},
   "outputs": [],
   "source": [
    "#7.7 remove the disease from the list 'salmonella'"
   ]
  },
  {
   "cell_type": "code",
   "execution_count": 21,
   "id": "05d0fdb3-0efa-426d-9429-806915c11252",
   "metadata": {},
   "outputs": [
    {
     "name": "stdout",
     "output_type": "stream",
     "text": [
      "['MOZZARELLA', 'Cinderella']\n"
     ]
    }
   ],
   "source": [
    "things.remove('salmonella')\n",
    "print(things)"
   ]
  },
  {
   "cell_type": "code",
   "execution_count": 22,
   "id": "15d817d3-32fe-4674-9cd3-2f0cc17b107b",
   "metadata": {},
   "outputs": [],
   "source": [
    "#9.1 Define a function called good() that returns the following list: ['Harry', 'Ron', 'Hermione']."
   ]
  },
  {
   "cell_type": "code",
   "execution_count": 23,
   "id": "faa972c9-9a26-4185-a433-5cb22359d3bd",
   "metadata": {},
   "outputs": [
    {
     "data": {
      "text/plain": [
       "['Harry', 'Ron', 'Hermione']"
      ]
     },
     "execution_count": 23,
     "metadata": {},
     "output_type": "execute_result"
    }
   ],
   "source": [
    "def good():\n",
    "    return ['Harry', 'Ron', 'Hermione']\n",
    "good()"
   ]
  },
  {
   "cell_type": "code",
   "execution_count": 24,
   "id": "b4bf980e-1209-4c8e-b663-d9fcff9617d7",
   "metadata": {},
   "outputs": [],
   "source": [
    "#9.2 Define a generator function called get_odds() that returns \n",
    "#the odd numbers from range(10). Use a for loop to find and print the third value returned.\n"
   ]
  },
  {
   "cell_type": "code",
   "execution_count": 30,
   "id": "8eef212b-797d-4843-8956-c25e08453871",
   "metadata": {},
   "outputs": [
    {
     "name": "stdout",
     "output_type": "stream",
     "text": [
      "5\n"
     ]
    }
   ],
   "source": [
    "def get_odds():\n",
    "    odds = [x for x in range(10) if x % 2 != 0]\n",
    "    print(odds[2])\n",
    "get_odds()"
   ]
  },
  {
   "cell_type": "code",
   "execution_count": null,
   "id": "4710c03a-713f-4632-9853-5dc7cddf696c",
   "metadata": {},
   "outputs": [],
   "source": []
  },
  {
   "cell_type": "code",
   "execution_count": null,
   "id": "27ec72e8-c9c2-46e5-a867-6cbc703bfbeb",
   "metadata": {},
   "outputs": [],
   "source": []
  },
  {
   "cell_type": "code",
   "execution_count": null,
   "id": "71fa3b31-661e-4c77-a72a-bdafa90f41ae",
   "metadata": {},
   "outputs": [],
   "source": []
  },
  {
   "cell_type": "code",
   "execution_count": null,
   "id": "2f3b35b4-475a-4d4e-8d66-e79244a37b28",
   "metadata": {},
   "outputs": [],
   "source": []
  },
  {
   "cell_type": "code",
   "execution_count": null,
   "id": "5c31e0bc-61d7-4d68-9b55-9d588fd4538a",
   "metadata": {},
   "outputs": [],
   "source": []
  },
  {
   "cell_type": "code",
   "execution_count": null,
   "id": "d234625a-7ac6-4ac0-b44d-099eb405ba85",
   "metadata": {},
   "outputs": [],
   "source": []
  },
  {
   "cell_type": "code",
   "execution_count": null,
   "id": "525a55ee-464a-4105-9b7e-557a8c6c5da9",
   "metadata": {},
   "outputs": [],
   "source": []
  }
 ],
 "metadata": {
  "kernelspec": {
   "display_name": "Python 3 (ipykernel)",
   "language": "python",
   "name": "python3"
  },
  "language_info": {
   "codemirror_mode": {
    "name": "ipython",
    "version": 3
   },
   "file_extension": ".py",
   "mimetype": "text/x-python",
   "name": "python",
   "nbconvert_exporter": "python",
   "pygments_lexer": "ipython3",
   "version": "3.11.7"
  }
 },
 "nbformat": 4,
 "nbformat_minor": 5
}
